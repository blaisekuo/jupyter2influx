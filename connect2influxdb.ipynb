{
 "cells": [
  {
   "cell_type": "markdown",
   "metadata": {},
   "source": [
    "make sure influxdb is installed:  \n",
    "pip install influxdb  \n",
    "  \n",
    "documentation:  \n",
    "https://influxdb-python.readthedocs.io/en/latest/examples.html\n",
    "  \n",
    "influxdb database manupulation:  \n",
    "https://docs.influxdata.com/influxdb/v1.6/introduction/getting-started/\n",
    "\n",
    "https://influxdbcom.readthedocs.io/en/latest/content/docs/v0.9/query_language/schema_exploration/\n",
    "\n",
    "Exploration commands, run these on http:/server:8086\n",
    "\n",
    "show measurements  \n",
    "  \n",
    "show series  \n",
    "  \n",
    "show tag keys  \n",
    "  \n",
    "show field keys  \n",
    "\n"
   ]
  },
  {
   "cell_type": "code",
   "execution_count": 1,
   "metadata": {},
   "outputs": [],
   "source": [
    "from influxdb import InfluxDBClient\n",
    "import numpy as np\n",
    "import matplotlib.pyplot as plt\n",
    "import datetime as dt\n",
    "import os"
   ]
  },
  {
   "cell_type": "code",
   "execution_count": 2,
   "metadata": {},
   "outputs": [],
   "source": [
    "host=os.environ[\"INFLUXADDR\"]\n",
    "port=8086\n",
    "user = 'datauser'\n",
    "password = os.environ[\"INFLUXPW\"]\n",
    "dbname = 'logger'\n",
    "dbuser = 'datauser'\n",
    "dbuser_password = os.environ[\"INFLUXPW\"]\n",
    "query = 'SELECT last(\"humidityvalue\") FROM \"autogen\".\"labenviro\" WHERE (\"runNum\" =~ /./) AND time >= now() - 5m GROUP BY time(10s);'"
   ]
  },
  {
   "cell_type": "code",
   "execution_count": 3,
   "metadata": {},
   "outputs": [],
   "source": [
    "client = InfluxDBClient(host, port, user, password, dbname)"
   ]
  },
  {
   "cell_type": "code",
   "execution_count": 4,
   "metadata": {},
   "outputs": [
    {
     "name": "stdout",
     "output_type": "stream",
     "text": [
      "Querying data: SELECT last(\"humidityvalue\") FROM \"autogen\".\"labenviro\" WHERE (\"runNum\" =~ /./) AND time >= now() - 5m GROUP BY time(10s);\n"
     ]
    }
   ],
   "source": [
    "print(\"Querying data: \" + query)\n",
    "result = client.query(query)"
   ]
  },
  {
   "cell_type": "code",
   "execution_count": 5,
   "metadata": {},
   "outputs": [
    {
     "name": "stdout",
     "output_type": "stream",
     "text": [
      "ResultSet({'('labenviro', None)': [{'time': '2018-08-31T02:39:00Z', 'last': None}, {'time': '2018-08-31T02:39:10Z', 'last': 19.79172134399414}, {'time': '2018-08-31T02:39:20Z', 'last': 17.601947784423828}, {'time': '2018-08-31T02:39:30Z', 'last': 17.81493377685547}, {'time': '2018-08-31T02:39:40Z', 'last': 17.558685302734375}, {'time': '2018-08-31T02:39:50Z', 'last': 17.34902572631836}, {'time': '2018-08-31T02:40:00Z', 'last': 17.28912353515625}, {'time': '2018-08-31T02:40:10Z', 'last': 17.222564697265625}, {'time': '2018-08-31T02:40:20Z', 'last': 17.55202865600586}, {'time': '2018-08-31T02:40:30Z', 'last': 17.61193084716797}, {'time': '2018-08-31T02:40:40Z', 'last': 17.455520629882812}, {'time': '2018-08-31T02:40:50Z', 'last': 17.57532501220703}, {'time': '2018-08-31T02:41:00Z', 'last': 17.864852905273438}, {'time': '2018-08-31T02:41:10Z', 'last': 17.402271270751953}, {'time': '2018-08-31T02:41:20Z', 'last': 17.56201171875}, {'time': '2018-08-31T02:41:30Z', 'last': 17.68514633178711}, {'time': '2018-08-31T02:41:40Z', 'last': 17.448863983154297}, {'time': '2018-08-31T02:41:50Z', 'last': 17.508766174316406}, {'time': '2018-08-31T02:42:00Z', 'last': 17.57532501220703}, {'time': '2018-08-31T02:42:10Z', 'last': 18.593669891357422}, {'time': '2018-08-31T02:42:20Z', 'last': 17.312419891357422}, {'time': '2018-08-31T02:42:30Z', 'last': 17.47216033935547}, {'time': '2018-08-31T02:42:40Z', 'last': 17.50210952758789}, {'time': '2018-08-31T02:42:50Z', 'last': 17.701786041259766}, {'time': '2018-08-31T02:43:00Z', 'last': 17.259172439575195}, {'time': '2018-08-31T02:43:10Z', 'last': 17.522077560424805}, {'time': '2018-08-31T02:43:20Z', 'last': 17.748376846313477}, {'time': '2018-08-31T02:43:30Z', 'last': 17.475486755371094}, {'time': '2018-08-31T02:43:40Z', 'last': 17.48214340209961}, {'time': '2018-08-31T02:43:50Z', 'last': 17.56534194946289}, {'time': '2018-08-31T02:44:00Z', 'last': 17.475486755371094}]})\n"
     ]
    }
   ],
   "source": [
    "print(result)"
   ]
  },
  {
   "cell_type": "code",
   "execution_count": 6,
   "metadata": {},
   "outputs": [
    {
     "data": {
      "text/plain": [
       "[(('labenviro', None),\n",
       "  <generator object ResultSet._get_points_for_series at 0x7fe4eeac4308>)]"
      ]
     },
     "execution_count": 6,
     "metadata": {},
     "output_type": "execute_result"
    }
   ],
   "source": [
    "result.items()"
   ]
  },
  {
   "cell_type": "code",
   "execution_count": 7,
   "metadata": {},
   "outputs": [
    {
     "data": {
      "text/plain": [
       "[('labenviro', None)]"
      ]
     },
     "execution_count": 7,
     "metadata": {},
     "output_type": "execute_result"
    }
   ],
   "source": [
    "result.keys()"
   ]
  },
  {
   "cell_type": "code",
   "execution_count": 8,
   "metadata": {},
   "outputs": [
    {
     "data": {
      "text/plain": [
       "<generator object ResultSet.get_points at 0x7fe51c44b830>"
      ]
     },
     "execution_count": 8,
     "metadata": {},
     "output_type": "execute_result"
    }
   ],
   "source": [
    "result.get_points()"
   ]
  },
  {
   "cell_type": "code",
   "execution_count": 9,
   "metadata": {},
   "outputs": [],
   "source": [
    "humid_points=list(result)"
   ]
  },
  {
   "cell_type": "code",
   "execution_count": 10,
   "metadata": {},
   "outputs": [
    {
     "name": "stdout",
     "output_type": "stream",
     "text": [
      "[[{'time': '2018-08-31T02:39:00Z', 'last': None}, {'time': '2018-08-31T02:39:10Z', 'last': 19.79172134399414}, {'time': '2018-08-31T02:39:20Z', 'last': 17.601947784423828}, {'time': '2018-08-31T02:39:30Z', 'last': 17.81493377685547}, {'time': '2018-08-31T02:39:40Z', 'last': 17.558685302734375}, {'time': '2018-08-31T02:39:50Z', 'last': 17.34902572631836}, {'time': '2018-08-31T02:40:00Z', 'last': 17.28912353515625}, {'time': '2018-08-31T02:40:10Z', 'last': 17.222564697265625}, {'time': '2018-08-31T02:40:20Z', 'last': 17.55202865600586}, {'time': '2018-08-31T02:40:30Z', 'last': 17.61193084716797}, {'time': '2018-08-31T02:40:40Z', 'last': 17.455520629882812}, {'time': '2018-08-31T02:40:50Z', 'last': 17.57532501220703}, {'time': '2018-08-31T02:41:00Z', 'last': 17.864852905273438}, {'time': '2018-08-31T02:41:10Z', 'last': 17.402271270751953}, {'time': '2018-08-31T02:41:20Z', 'last': 17.56201171875}, {'time': '2018-08-31T02:41:30Z', 'last': 17.68514633178711}, {'time': '2018-08-31T02:41:40Z', 'last': 17.448863983154297}, {'time': '2018-08-31T02:41:50Z', 'last': 17.508766174316406}, {'time': '2018-08-31T02:42:00Z', 'last': 17.57532501220703}, {'time': '2018-08-31T02:42:10Z', 'last': 18.593669891357422}, {'time': '2018-08-31T02:42:20Z', 'last': 17.312419891357422}, {'time': '2018-08-31T02:42:30Z', 'last': 17.47216033935547}, {'time': '2018-08-31T02:42:40Z', 'last': 17.50210952758789}, {'time': '2018-08-31T02:42:50Z', 'last': 17.701786041259766}, {'time': '2018-08-31T02:43:00Z', 'last': 17.259172439575195}, {'time': '2018-08-31T02:43:10Z', 'last': 17.522077560424805}, {'time': '2018-08-31T02:43:20Z', 'last': 17.748376846313477}, {'time': '2018-08-31T02:43:30Z', 'last': 17.475486755371094}, {'time': '2018-08-31T02:43:40Z', 'last': 17.48214340209961}, {'time': '2018-08-31T02:43:50Z', 'last': 17.56534194946289}, {'time': '2018-08-31T02:44:00Z', 'last': 17.475486755371094}]]\n"
     ]
    }
   ],
   "source": [
    "print(humid_points)"
   ]
  },
  {
   "cell_type": "code",
   "execution_count": 64,
   "metadata": {},
   "outputs": [
    {
     "data": {
      "text/plain": [
       "31"
      ]
     },
     "execution_count": 64,
     "metadata": {},
     "output_type": "execute_result"
    }
   ],
   "source": [
    "len(humid_points[0])"
   ]
  },
  {
   "cell_type": "code",
   "execution_count": 65,
   "metadata": {},
   "outputs": [
    {
     "data": {
      "text/plain": [
       "['2018-08-31T01:48:20Z', None]"
      ]
     },
     "execution_count": 65,
     "metadata": {},
     "output_type": "execute_result"
    }
   ],
   "source": [
    "list(humid_points[0][0].values())"
   ]
  },
  {
   "cell_type": "code",
   "execution_count": 66,
   "metadata": {},
   "outputs": [
    {
     "name": "stdout",
     "output_type": "stream",
     "text": [
      "[datetime.datetime(2018, 8, 31, 1, 48, 20), datetime.datetime(2018, 8, 31, 1, 48, 30), datetime.datetime(2018, 8, 31, 1, 48, 40), datetime.datetime(2018, 8, 31, 1, 48, 50), datetime.datetime(2018, 8, 31, 1, 49), datetime.datetime(2018, 8, 31, 1, 49, 10), datetime.datetime(2018, 8, 31, 1, 49, 20), datetime.datetime(2018, 8, 31, 1, 49, 30), datetime.datetime(2018, 8, 31, 1, 49, 40), datetime.datetime(2018, 8, 31, 1, 49, 50), datetime.datetime(2018, 8, 31, 1, 50), datetime.datetime(2018, 8, 31, 1, 50, 10), datetime.datetime(2018, 8, 31, 1, 50, 20), datetime.datetime(2018, 8, 31, 1, 50, 30), datetime.datetime(2018, 8, 31, 1, 50, 40), datetime.datetime(2018, 8, 31, 1, 50, 50), datetime.datetime(2018, 8, 31, 1, 51), datetime.datetime(2018, 8, 31, 1, 51, 10), datetime.datetime(2018, 8, 31, 1, 51, 20), datetime.datetime(2018, 8, 31, 1, 51, 30), datetime.datetime(2018, 8, 31, 1, 51, 40), datetime.datetime(2018, 8, 31, 1, 51, 50), datetime.datetime(2018, 8, 31, 1, 52), datetime.datetime(2018, 8, 31, 1, 52, 10), datetime.datetime(2018, 8, 31, 1, 52, 20), datetime.datetime(2018, 8, 31, 1, 52, 30), datetime.datetime(2018, 8, 31, 1, 52, 40), datetime.datetime(2018, 8, 31, 1, 52, 50), datetime.datetime(2018, 8, 31, 1, 53), datetime.datetime(2018, 8, 31, 1, 53, 10)]\n",
      "[None, 17.24253273010254, 17.515422821044922, 17.488800048828125, 17.23920440673828, 17.452190399169922, 16.94301986694336, 17.595291137695312, 17.16598892211914, 17.332386016845703, 17.23920440673828, 17.522077560424805, 17.342369079589844, 17.315746307373047, 17.40892791748047, 17.255844116210938, 17.44220733642578, 17.3590087890625, 17.468830108642578, 17.259172439575195, 17.48214340209961, 17.598621368408203, 17.16931915283203, 17.21923828125, 17.259172439575195, 18.483848571777344, 16.929706573486328, 17.269155502319336, 17.292449951171875, 17.046184539794922]\n"
     ]
    }
   ],
   "source": [
    "humid_time=[]\n",
    "humid_list=[]\n",
    "for i in range(len(humid_points[0])-1):\n",
    "    humid_time.append(dt.datetime.strptime(list(humid_points[0][i].values())[0],\"%Y-%m-%dT%H:%M:%SZ\"))\n",
    "    humid_list.append(list(humid_points[0][i].values())[1])\n",
    "print(humid_time)\n",
    "print(humid_list)"
   ]
  },
  {
   "cell_type": "code",
   "execution_count": 67,
   "metadata": {},
   "outputs": [],
   "source": [
    "np_humid_time=np.array(humid_time)\n",
    "np_humidity=np.array(humid_list,dtype = 'f4')"
   ]
  },
  {
   "cell_type": "code",
   "execution_count": 68,
   "metadata": {},
   "outputs": [
    {
     "name": "stdout",
     "output_type": "stream",
     "text": [
      "2018-08-31 01:48:20\n",
      "nan\n"
     ]
    }
   ],
   "source": [
    "print(np_humid_time[0])\n",
    "print(np_humidity[0])"
   ]
  },
  {
   "cell_type": "code",
   "execution_count": 69,
   "metadata": {},
   "outputs": [
    {
     "data": {
      "text/plain": [
       "[<matplotlib.lines.Line2D at 0x7f7263f4a438>]"
      ]
     },
     "execution_count": 69,
     "metadata": {},
     "output_type": "execute_result"
    },
    {
     "data": {
      "image/png": "[encoded data removed]",
      "text/plain": [
       "<Figure size 864x1008 with 1 Axes>"
      ]
     },
     "metadata": {},
     "output_type": "display_data"
    }
   ],
   "source": [
    "#prepare a plot\n",
    "\n",
    "plt.figure(figsize=(12,14))\n",
    "ax = plt.subplot(111)\n",
    "ax.spines[\"top\"].set_visible(False)    \n",
    "ax.spines[\"bottom\"].set_visible(True)    \n",
    "ax.spines[\"right\"].set_visible(False)    \n",
    "ax.spines[\"left\"].set_visible(True)    \n",
    "         \n",
    "ax.get_xaxis().tick_bottom()    \n",
    "ax.get_yaxis().tick_left() \n",
    "\n",
    "plt.yticks(fontsize=15,color='red')\n",
    "plt.xticks(fontsize=15,color='red')    \n",
    "      \n",
    "\n",
    "plt.title(\"humidity (%)\",fontsize=20,color='red')\n",
    "plt.plot(np_humid_time,np_humidity, color='green')"
   ]
  },
  {
   "cell_type": "code",
   "execution_count": null,
   "metadata": {},
   "outputs": [],
   "source": []
  }
 ],
 "metadata": {
  "kernelspec": {
   "display_name": "Python 3",
   "language": "python",
   "name": "python3"
  },
  "language_info": {
   "codemirror_mode": {
    "name": "ipython",
    "version": 3
   },
   "file_extension": ".py",
   "mimetype": "text/x-python",
   "name": "python",
   "nbconvert_exporter": "python",
   "pygments_lexer": "ipython3",
   "version": "3.6.5"
  }
 },
 "nbformat": 4,
 "nbformat_minor": 2
}
